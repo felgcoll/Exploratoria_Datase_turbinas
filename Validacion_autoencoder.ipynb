{
  "nbformat": 4,
  "nbformat_minor": 0,
  "metadata": {
    "colab": {
      "name": "Validacion_autoencoder.ipynb",
      "provenance": [],
      "collapsed_sections": []
    },
    "kernelspec": {
      "name": "python3",
      "display_name": "Python 3"
    },
    "language_info": {
      "name": "python"
    },
    "accelerator": "GPU"
  },
  "cells": [
    {
      "cell_type": "code",
      "metadata": {
        "id": "tZuhU9S5VcPp"
      },
      "source": [
        "import tensorflow as tf\n",
        "import pandas as pd\n",
        "import numpy as np\n",
        "\n",
        "from sklearn.preprocessing import MinMaxScaler\n",
        "import matplotlib.pyplot as plt\n",
        "from keras.models import load_model"
      ],
      "execution_count": null,
      "outputs": []
    },
    {
      "cell_type": "code",
      "metadata": {
        "id": "u0ES_wvVlZ6n"
      },
      "source": [
        "x_train = pd.read_csv('/content/drive/MyDrive/Reescalado/RB.csv').iloc[:,1:]\n",
        "x_test = pd.read_csv('/content/drive/MyDrive/Reescalado/UB.csv').iloc[:,1:]"
      ],
      "execution_count": 2,
      "outputs": []
    },
    {
      "cell_type": "code",
      "metadata": {
        "id": "WgsEPN42rZ2Q"
      },
      "source": [
        "scaler = MinMaxScaler()\n",
        "x_train = scaler.fit_transform(x_train)\n",
        "x_test = scaler.fit_transform(x_test)"
      ],
      "execution_count": 3,
      "outputs": []
    },
    {
      "cell_type": "code",
      "metadata": {
        "id": "PU-hB-nstPTx"
      },
      "source": [
        "x_train = pd.DataFrame(x_train)\n",
        "x_test = pd.DataFrame(x_test)"
      ],
      "execution_count": 5,
      "outputs": []
    },
    {
      "cell_type": "code",
      "metadata": {
        "id": "GWdI44MNlaAP"
      },
      "source": [
        "l_1 = x_train.iloc[:,0:3].values.tolist()\n",
        "l_2 = x_train.iloc[:,3:6].values.tolist()\n",
        "l_3 = x_train.iloc[:,6:9].values.tolist()\n",
        "l_4 = x_train.iloc[:,9:12].values.tolist()\n",
        "l_5 = x_train.iloc[:,12:15].values.tolist()\n",
        "l_6 = x_train.iloc[:,15:18].values.tolist()\n",
        "l_7 = x_train.iloc[:,18:21].values.tolist()\n",
        "l_8 = x_train.iloc[:,21:].values.tolist()\n",
        "\n",
        "x_train = np.array([l_1,l_2,l_3,l_4,l_5,l_6,l_7,l_8])"
      ],
      "execution_count": 6,
      "outputs": []
    },
    {
      "cell_type": "code",
      "metadata": {
        "id": "preDc3lgl31v"
      },
      "source": [
        "l_1_ = x_test.iloc[:,0:3].values.tolist()\n",
        "l_2_ = x_test.iloc[:,3:6].values.tolist()\n",
        "l_3_ = x_test.iloc[:,6:9].values.tolist()\n",
        "l_4_ = x_test.iloc[:,9:12].values.tolist()\n",
        "l_5_ = x_test.iloc[:,12:15].values.tolist()\n",
        "l_6_ = x_test.iloc[:,15:18].values.tolist()\n",
        "l_7_ = x_test.iloc[:,18:21].values.tolist()\n",
        "l_8_ = x_test.iloc[:,21:].values.tolist()\n",
        "\n",
        "x_test = np.array([l_1_,l_2_,l_3_,l_4_,l_5_,l_6_,l_7_,l_8_])"
      ],
      "execution_count": 7,
      "outputs": []
    },
    {
      "cell_type": "code",
      "metadata": {
        "colab": {
          "base_uri": "https://localhost:8080/"
        },
        "id": "iWzuP1K0tCoq",
        "outputId": "4f7ea812-c367-4fb9-e2b7-b557757762d2"
      },
      "source": [
        "print(x_train.shape, x_test.shape)"
      ],
      "execution_count": 8,
      "outputs": [
        {
          "output_type": "stream",
          "text": [
            "(8, 1981940, 3) (8, 1981940, 3)\n"
          ],
          "name": "stdout"
        }
      ]
    },
    {
      "cell_type": "code",
      "metadata": {
        "id": "peABFwd3l52t"
      },
      "source": [
        "x_train = x_train.reshape(1981940, 3, 8)\n",
        "x_test = x_test.reshape(1981940, 3, 8)"
      ],
      "execution_count": 9,
      "outputs": []
    },
    {
      "cell_type": "code",
      "metadata": {
        "id": "Nxg42baq0Idr"
      },
      "source": [
        "x_train1 = pd.read_csv('/content/drive/MyDrive/Reescalado/Val.csv').iloc[:,1:]"
      ],
      "execution_count": 39,
      "outputs": []
    },
    {
      "cell_type": "code",
      "metadata": {
        "id": "nMdZAr5T0lHv"
      },
      "source": [
        "l_1 = x_train1.iloc[:,0:3].values.tolist()\n",
        "l_2 = x_train1.iloc[:,3:6].values.tolist()\n",
        "l_3 = x_train1.iloc[:,6:9].values.tolist()\n",
        "l_4 = x_train1.iloc[:,9:12].values.tolist()\n",
        "l_5 = x_train1.iloc[:,12:15].values.tolist()\n",
        "l_6 = x_train1.iloc[:,15:18].values.tolist()\n",
        "l_7 = x_train1.iloc[:,18:21].values.tolist()\n",
        "l_8 = x_train1.iloc[:,21:].values.tolist()\n",
        "\n",
        "x_train1 = np.array([l_1,l_2,l_3,l_4,l_5,l_6,l_7,l_8])"
      ],
      "execution_count": 40,
      "outputs": []
    },
    {
      "cell_type": "code",
      "metadata": {
        "colab": {
          "base_uri": "https://localhost:8080/"
        },
        "id": "D-iX1PZA0p2N",
        "outputId": "7cc7d2f2-6898-43f1-d1ec-57c1d628d2c8"
      },
      "source": [
        "x_train1.shape"
      ],
      "execution_count": 41,
      "outputs": [
        {
          "output_type": "execute_result",
          "data": {
            "text/plain": [
              "(8, 118917, 3)"
            ]
          },
          "metadata": {
            "tags": []
          },
          "execution_count": 41
        }
      ]
    },
    {
      "cell_type": "code",
      "metadata": {
        "id": "Nhn4rIFK0wP8"
      },
      "source": [
        "x_train1 = x_train1.reshape(118917, 3, 8)"
      ],
      "execution_count": 42,
      "outputs": []
    },
    {
      "cell_type": "code",
      "metadata": {
        "id": "0oMLeKkCtY9-"
      },
      "source": [
        "model = load_model('/content/auto.h5')"
      ],
      "execution_count": 10,
      "outputs": []
    },
    {
      "cell_type": "code",
      "metadata": {
        "id": "qIiZkTqgt1Lx"
      },
      "source": [
        "predictions = model.predict(x_train)"
      ],
      "execution_count": 25,
      "outputs": []
    },
    {
      "cell_type": "code",
      "metadata": {
        "id": "CbW07Mh6vLGd"
      },
      "source": [
        "m = tf.keras.metrics.MeanSquaredError()\n",
        "RB_error = []\n",
        "for i in range(1000):\n",
        "  m.update_state(x_train[i], predictions[i])\n",
        "  RB_error.append(m.result().numpy())"
      ],
      "execution_count": 32,
      "outputs": []
    },
    {
      "cell_type": "code",
      "metadata": {
        "id": "ZIA1R9xjw4zt"
      },
      "source": [
        "predictions2 = model.predict(x_test)"
      ],
      "execution_count": 28,
      "outputs": []
    },
    {
      "cell_type": "code",
      "metadata": {
        "id": "aNcE0HSUwVSq"
      },
      "source": [
        "UB_error = []\n",
        "for i in range(1000):\n",
        "  m.update_state(x_test[i], predictions2[i])\n",
        "  UB_error.append(m.result().numpy())"
      ],
      "execution_count": 33,
      "outputs": []
    },
    {
      "cell_type": "code",
      "metadata": {
        "id": "fd6fNJwW03be"
      },
      "source": [
        "predictions3 = model.predict(x_train1)"
      ],
      "execution_count": 44,
      "outputs": []
    },
    {
      "cell_type": "code",
      "metadata": {
        "id": "ZmxE6GNK06gs"
      },
      "source": [
        "VAL_error = []\n",
        "for i in range(1000):\n",
        "  m.update_state(x_train1[i], predictions3[i])\n",
        "  VAL_error.append(m.result().numpy())"
      ],
      "execution_count": 45,
      "outputs": []
    },
    {
      "cell_type": "code",
      "metadata": {
        "colab": {
          "base_uri": "https://localhost:8080/"
        },
        "id": "xp2uHCD_zJ6f",
        "outputId": "ab72c3b0-9a9d-4882-d40f-287cf1b4daa7"
      },
      "source": [
        "print(len(RB_error),len(UB_error), len(VAL_error))"
      ],
      "execution_count": 47,
      "outputs": [
        {
          "output_type": "stream",
          "text": [
            "1000 1000 1000\n"
          ],
          "name": "stdout"
        }
      ]
    },
    {
      "cell_type": "code",
      "metadata": {
        "colab": {
          "base_uri": "https://localhost:8080/",
          "height": 307
        },
        "id": "fQukvZx6t8Ul",
        "outputId": "466413f4-0851-42fd-f34c-b4ed82977bdc"
      },
      "source": [
        "plt.xlabel('Número de Datos')\n",
        "plt.ylabel('Error')\n",
        "plt.plot(UB_error)\n",
        "plt.plot(RB_error)\n",
        "plt.plot(VAL_error)\n"
      ],
      "execution_count": 54,
      "outputs": [
        {
          "output_type": "execute_result",
          "data": {
            "text/plain": [
              "[<matplotlib.lines.Line2D at 0x7f041bb8ce90>]"
            ]
          },
          "metadata": {
            "tags": []
          },
          "execution_count": 54
        },
        {
          "output_type": "display_data",
          "data": {
            "image/png": "[encoded data removed]",
            "text/plain": [
              "<Figure size 432x288 with 1 Axes>"
            ]
          },
          "metadata": {
            "tags": [],
            "needs_background": "light"
          }
        }
      ]
    }
  ]
}