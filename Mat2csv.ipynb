{
 "cells": [
  {
   "cell_type": "code",
   "execution_count": 4,
   "metadata": {},
   "outputs": [],
   "source": [
    "import scipy.io\n",
    "import io\n",
    "import os\n",
    "import pandas as pd"
   ]
  },
  {
   "cell_type": "code",
   "execution_count": 2,
   "metadata": {},
   "outputs": [],
   "source": [
    "#Función para crear las columnas que van a enumerar el DF\n",
    "def columns():\n",
    "    col = []\n",
    "    \n",
    "    for i in range(1,9):\n",
    "        col.append('x'+str(i))\n",
    "        col.append('y'+str(i))\n",
    "        col.append('z'+str(i))\n",
    "    \n",
    "    return col"
   ]
  },
  {
   "cell_type": "code",
   "execution_count": 13,
   "metadata": {},
   "outputs": [
    {
     "name": "stdout",
     "output_type": "stream",
     "text": [
      "100\n"
     ]
    }
   ],
   "source": [
    "#Directorio a recorrer\n",
    "path_mat = '/home/bryan/Escritorio/Paper/Dataset/'\n",
    "\n",
    "def Ficheros(path, formato):\n",
    "    contenido = os.listdir(path)\n",
    "\n",
    "    #Acumulador del nombre de las   imagenes a utilizar\n",
    "    archivos = []\n",
    "\n",
    "    #Se recorre el path para obtener los nombre y se los aggrega al acumulador, en este caso la lista\n",
    "    for fichero in contenido:\n",
    "        if os.path.isfile(os.path.join(path, fichero)) and fichero.endswith(formato):\n",
    "            archivos.append(fichero)\n",
    "            \n",
    "    return archivos\n",
    "\n",
    "\n",
    "#Verificar si obtiene los archivos\n",
    "print(len(Ficheros(path_mat, '.mat')))"
   ]
  },
  {
   "cell_type": "code",
   "execution_count": 16,
   "metadata": {},
   "outputs": [],
   "source": [
    "#Directorio a guardar\n",
    "path_csv = '/home/bryan/Escritorio/Paper/DataCSV/'\n",
    "\n",
    "#Lista donde estan los archivos\n",
    "archivos = Ficheros(path_mat, '.mat')\n",
    "\n",
    "#Lazo para guardar los archivos en formato CSV\n",
    "for archivo in archivos:\n",
    "    mat = scipy.io.loadmat(path_mat + archivo[:-4])\n",
    "    df = pd.DataFrame(mat['data'], columns=columns())\n",
    "    df['time'] = mat['timestamps']\n",
    "    df.to_csv(path_csv + archivo[:-4]+'.csv')"
   ]
  },
  {
   "cell_type": "code",
   "execution_count": 17,
   "metadata": {},
   "outputs": [
    {
     "name": "stdout",
     "output_type": "stream",
     "text": [
      "100\n"
     ]
    }
   ],
   "source": [
    "#Verificar que esté la misma cantidad de archivos (100)\n",
    "\n",
    "print(len(Ficheros(path_csv, '.csv')))"
   ]
  },
  {
   "cell_type": "code",
   "execution_count": null,
   "metadata": {},
   "outputs": [],
   "source": []
  },
  {
   "cell_type": "code",
   "execution_count": null,
   "metadata": {},
   "outputs": [],
   "source": []
  }
 ],
 "metadata": {
  "kernelspec": {
   "display_name": "Python 3",
   "language": "python",
   "name": "python3"
  },
  "language_info": {
   "codemirror_mode": {
    "name": "ipython",
    "version": 3
   },
   "file_extension": ".py",
   "mimetype": "text/x-python",
   "name": "python",
   "nbconvert_exporter": "python",
   "pygments_lexer": "ipython3",
   "version": "3.8.5"
  }
 },
 "nbformat": 4,
 "nbformat_minor": 4
}
