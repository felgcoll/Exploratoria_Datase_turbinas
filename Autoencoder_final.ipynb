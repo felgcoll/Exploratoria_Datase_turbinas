{
  "nbformat": 4,
  "nbformat_minor": 0,
  "metadata": {
    "colab": {
      "name": "Autoencoder_final.ipynb",
      "provenance": [],
      "collapsed_sections": []
    },
    "kernelspec": {
      "name": "python3",
      "display_name": "Python 3"
    },
    "language_info": {
      "name": "python"
    },
    "accelerator": "GPU"
  },
  "cells": [
    {
      "cell_type": "code",
      "metadata": {
        "id": "Lcml0LQqFN1P"
      },
      "source": [
        "# Importing helping libraries\n",
        "import tensorflow as tf\n",
        "import pandas as pd\n",
        "import numpy as np\n",
        "import matplotlib.pyplot as plt\n",
        "%matplotlib inline"
      ],
      "execution_count": 1,
      "outputs": []
    },
    {
      "cell_type": "code",
      "metadata": {
        "id": "-FybcBZrGllQ"
      },
      "source": [
        "x_train = pd.read_csv('/content/drive/MyDrive/Reescalado/Train.csv').iloc[:,1:]\n",
        "x_test = pd.read_csv('/content/drive/MyDrive/Reescalado/Test.csv').iloc[:,1:]"
      ],
      "execution_count": 2,
      "outputs": []
    },
    {
      "cell_type": "code",
      "metadata": {
        "id": "U9-_Y7nxGrTf"
      },
      "source": [
        "l_1 = x_train.iloc[:,0:3].values.tolist()\n",
        "l_2 = x_train.iloc[:,3:6].values.tolist()\n",
        "l_3 = x_train.iloc[:,6:9].values.tolist()\n",
        "l_4 = x_train.iloc[:,9:12].values.tolist()\n",
        "l_5 = x_train.iloc[:,12:15].values.tolist()\n",
        "l_6 = x_train.iloc[:,15:18].values.tolist()\n",
        "l_7 = x_train.iloc[:,18:21].values.tolist()\n",
        "l_8 = x_train.iloc[:,21:].values.tolist()\n",
        "\n",
        "x_train = np.array([l_1,l_2,l_3,l_4,l_5,l_6,l_7,l_8])"
      ],
      "execution_count": 3,
      "outputs": []
    },
    {
      "cell_type": "code",
      "metadata": {
        "id": "IA_RipFKGshU"
      },
      "source": [
        "l_1_ = x_test.iloc[:,0:3].values.tolist()\n",
        "l_2_ = x_test.iloc[:,3:6].values.tolist()\n",
        "l_3_ = x_test.iloc[:,6:9].values.tolist()\n",
        "l_4_ = x_test.iloc[:,9:12].values.tolist()\n",
        "l_5_ = x_test.iloc[:,12:15].values.tolist()\n",
        "l_6_ = x_test.iloc[:,15:18].values.tolist()\n",
        "l_7_ = x_test.iloc[:,18:21].values.tolist()\n",
        "l_8_ = x_test.iloc[:,21:].values.tolist()\n",
        "\n",
        "x_test = np.array([l_1_,l_2_,l_3_,l_4_,l_5_,l_6_,l_7_,l_8_])"
      ],
      "execution_count": 4,
      "outputs": []
    },
    {
      "cell_type": "code",
      "metadata": {
        "id": "1n3JGJMoGstV"
      },
      "source": [
        "x_train = x_train.reshape(2774716, 3, 8)\n",
        "x_test = x_test.reshape(1070247, 3, 8)"
      ],
      "execution_count": 5,
      "outputs": []
    },
    {
      "cell_type": "code",
      "metadata": {
        "colab": {
          "base_uri": "https://localhost:8080/"
        },
        "id": "iLkJoD8HGx2g",
        "outputId": "d62336fb-08a0-47a1-a541-03d0327128a5"
      },
      "source": [
        "# Setting input shape\n",
        "inp_size = 8\n",
        "inp = tf.keras.Input(shape=(3, 8))\n",
        "\n",
        "from tensorflow.keras import regularizers\n",
        "\n",
        "# Setting layers for autoencoders\n",
        "encoded = tf.keras.layers.Dense(20, activation='relu', kernel_regularizer=regularizers.l2(1e-4),\n",
        "    bias_regularizer=regularizers.l2(1e-4),\n",
        "    activity_regularizer=regularizers.l2(1e-5))(inp)\n",
        "encoded = tf.keras.layers.Dense(16, activation='relu')(encoded)\n",
        "decoded = tf.keras.layers.Dense(20, activation='relu')(encoded)\n",
        "decoded = tf.keras.layers.Dense(units = inp_size, activation='sigmoid')(decoded)\n",
        "\n",
        "# Autoencoder and encoder\n",
        "autoencoder = tf.keras.Model(inp, decoded)\n",
        "encoder = tf.keras.Model(inp, encoded)\n",
        "\n",
        "# Check summary\n",
        "autoencoder.summary()\n",
        "encoder.summary()"
      ],
      "execution_count": 6,
      "outputs": [
        {
          "output_type": "stream",
          "text": [
            "Model: \"model\"\n",
            "_________________________________________________________________\n",
            "Layer (type)                 Output Shape              Param #   \n",
            "=================================================================\n",
            "input_1 (InputLayer)         [(None, 3, 8)]            0         \n",
            "_________________________________________________________________\n",
            "dense (Dense)                (None, 3, 20)             180       \n",
            "_________________________________________________________________\n",
            "dense_1 (Dense)              (None, 3, 16)             336       \n",
            "_________________________________________________________________\n",
            "dense_2 (Dense)              (None, 3, 20)             340       \n",
            "_________________________________________________________________\n",
            "dense_3 (Dense)              (None, 3, 8)              168       \n",
            "=================================================================\n",
            "Total params: 1,024\n",
            "Trainable params: 1,024\n",
            "Non-trainable params: 0\n",
            "_________________________________________________________________\n",
            "Model: \"model_1\"\n",
            "_________________________________________________________________\n",
            "Layer (type)                 Output Shape              Param #   \n",
            "=================================================================\n",
            "input_1 (InputLayer)         [(None, 3, 8)]            0         \n",
            "_________________________________________________________________\n",
            "dense (Dense)                (None, 3, 20)             180       \n",
            "_________________________________________________________________\n",
            "dense_1 (Dense)              (None, 3, 16)             336       \n",
            "=================================================================\n",
            "Total params: 516\n",
            "Trainable params: 516\n",
            "Non-trainable params: 0\n",
            "_________________________________________________________________\n"
          ],
          "name": "stdout"
        }
      ]
    },
    {
      "cell_type": "code",
      "metadata": {
        "colab": {
          "base_uri": "https://localhost:8080/"
        },
        "id": "NLGScoiNG21E",
        "outputId": "29878a34-cff4-49c9-b41b-c3dc966c08af"
      },
      "source": [
        "autoencoder.compile(loss='mean_squared_error', optimizer='adam', metrics=['accuracy'])\n",
        "\n",
        "# Fit an autoencoder \n",
        "history = autoencoder.fit(x_train, x_train,\n",
        "                epochs=10,\n",
        "                batch_size=512,\n",
        "                shuffle=False,\n",
        "                validation_data=(x_test, x_test))"
      ],
      "execution_count": 7,
      "outputs": [
        {
          "output_type": "stream",
          "text": [
            "Epoch 1/10\n",
            "5420/5420 [==============================] - 26s 4ms/step - loss: 8.6093e-04 - accuracy: 0.9241 - val_loss: 8.0614e-05 - val_accuracy: 0.9777\n",
            "Epoch 2/10\n",
            "5420/5420 [==============================] - 22s 4ms/step - loss: 5.6784e-05 - accuracy: 0.9844 - val_loss: 5.5358e-05 - val_accuracy: 0.9763\n",
            "Epoch 3/10\n",
            "5420/5420 [==============================] - 22s 4ms/step - loss: 4.3784e-05 - accuracy: 0.9825 - val_loss: 4.7401e-05 - val_accuracy: 0.9778\n",
            "Epoch 4/10\n",
            "5420/5420 [==============================] - 22s 4ms/step - loss: 3.9313e-05 - accuracy: 0.9816 - val_loss: 4.3421e-05 - val_accuracy: 0.9800\n",
            "Epoch 5/10\n",
            "5420/5420 [==============================] - 22s 4ms/step - loss: 3.6788e-05 - accuracy: 0.9803 - val_loss: 4.1318e-05 - val_accuracy: 0.9794\n",
            "Epoch 6/10\n",
            "5420/5420 [==============================] - 22s 4ms/step - loss: 3.5197e-05 - accuracy: 0.9801 - val_loss: 3.9886e-05 - val_accuracy: 0.9792\n",
            "Epoch 7/10\n",
            "5420/5420 [==============================] - 22s 4ms/step - loss: 3.4231e-05 - accuracy: 0.9794 - val_loss: 3.8247e-05 - val_accuracy: 0.9816\n",
            "Epoch 8/10\n",
            "5420/5420 [==============================] - 22s 4ms/step - loss: 3.3625e-05 - accuracy: 0.9787 - val_loss: 3.7553e-05 - val_accuracy: 0.9810\n",
            "Epoch 9/10\n",
            "5420/5420 [==============================] - 22s 4ms/step - loss: 3.3156e-05 - accuracy: 0.9781 - val_loss: 3.7202e-05 - val_accuracy: 0.9800\n",
            "Epoch 10/10\n",
            "5420/5420 [==============================] - 22s 4ms/step - loss: 3.2722e-05 - accuracy: 0.9778 - val_loss: 3.6689e-05 - val_accuracy: 0.9798\n"
          ],
          "name": "stdout"
        }
      ]
    },
    {
      "cell_type": "code",
      "metadata": {
        "colab": {
          "base_uri": "https://localhost:8080/",
          "height": 295
        },
        "id": "AFgZ2SxHG65X",
        "outputId": "3ed7aa8f-4719-4cf8-e032-45cf4903e942"
      },
      "source": [
        "plt.plot(history.history['accuracy'])\n",
        "plt.plot(history.history['val_accuracy'])\n",
        "plt.title('model accuracy')\n",
        "plt.ylabel('accuracy')\n",
        "plt.xlabel('epoch')\n",
        "plt.legend(['train', 'test'], loc='upper left')\n",
        "plt.show()"
      ],
      "execution_count": 8,
      "outputs": [
        {
          "output_type": "display_data",
          "data": {
            "image/png": "[encoded data removed]",
            "text/plain": [
              "<Figure size 432x288 with 1 Axes>"
            ]
          },
          "metadata": {
            "tags": [],
            "needs_background": "light"
          }
        }
      ]
    },
    {
      "cell_type": "code",
      "metadata": {
        "colab": {
          "base_uri": "https://localhost:8080/",
          "height": 295
        },
        "id": "UJzaFQLgG7dP",
        "outputId": "619393ea-6284-443b-9cc4-86b77c0bea0c"
      },
      "source": [
        "plt.plot(history.history['loss'])\n",
        "plt.plot(history.history['val_loss'])\n",
        "plt.title('model loss')\n",
        "plt.ylabel('loss')\n",
        "plt.xlabel('epoch')\n",
        "plt.legend(['train', 'test'], loc='upper left')\n",
        "plt.show()"
      ],
      "execution_count": 9,
      "outputs": [
        {
          "output_type": "display_data",
          "data": {
            "image/png": "[encoded data removed]",
            "text/plain": [
              "<Figure size 432x288 with 1 Axes>"
            ]
          },
          "metadata": {
            "tags": [],
            "needs_background": "light"
          }
        }
      ]
    },
    {
      "cell_type": "code",
      "metadata": {
        "id": "I_Rm0qCHVLVe"
      },
      "source": [
        "autoencoder.save('auto.h5')"
      ],
      "execution_count": 10,
      "outputs": []
    },
    {
      "cell_type": "code",
      "metadata": {
        "colab": {
          "base_uri": "https://localhost:8080/"
        },
        "id": "8GdYklJAJwok",
        "outputId": "e0fef08a-fe9a-459d-9887-7e483d7c2e09"
      },
      "source": [
        "# Setting input shape\n",
        "inp_size = 8\n",
        "inp = tf.keras.Input(shape=(3, 8))\n",
        "\n",
        "from tensorflow.keras import regularizers\n",
        "\n",
        "# Setting layers for autoencoders\n",
        "encoded = tf.keras.layers.Dense(24, activation='relu', kernel_regularizer=regularizers.l2(1e-4),\n",
        "    bias_regularizer=regularizers.l2(1e-4),\n",
        "    activity_regularizer=regularizers.l2(1e-5))(inp)\n",
        "encoded = tf.keras.layers.Dense(23, activation='relu')(encoded)\n",
        "decoded = tf.keras.layers.Dense(24, activation='relu')(encoded)\n",
        "decoded = tf.keras.layers.Dense(units = inp_size, activation='sigmoid')(decoded)\n",
        "\n",
        "# Autoencoder and encoder\n",
        "autoencoder = tf.keras.Model(inp, decoded)\n",
        "encoder = tf.keras.Model(inp, encoded)\n",
        "\n",
        "# Check summary\n",
        "autoencoder.summary()\n",
        "encoder.summary()"
      ],
      "execution_count": null,
      "outputs": [
        {
          "output_type": "stream",
          "text": [
            "Model: \"model_2\"\n",
            "_________________________________________________________________\n",
            "Layer (type)                 Output Shape              Param #   \n",
            "=================================================================\n",
            "input_2 (InputLayer)         [(None, 3, 8)]            0         \n",
            "_________________________________________________________________\n",
            "dense_4 (Dense)              (None, 3, 24)             216       \n",
            "_________________________________________________________________\n",
            "dense_5 (Dense)              (None, 3, 23)             575       \n",
            "_________________________________________________________________\n",
            "dense_6 (Dense)              (None, 3, 24)             576       \n",
            "_________________________________________________________________\n",
            "dense_7 (Dense)              (None, 3, 8)              200       \n",
            "=================================================================\n",
            "Total params: 1,567\n",
            "Trainable params: 1,567\n",
            "Non-trainable params: 0\n",
            "_________________________________________________________________\n",
            "Model: \"model_3\"\n",
            "_________________________________________________________________\n",
            "Layer (type)                 Output Shape              Param #   \n",
            "=================================================================\n",
            "input_2 (InputLayer)         [(None, 3, 8)]            0         \n",
            "_________________________________________________________________\n",
            "dense_4 (Dense)              (None, 3, 24)             216       \n",
            "_________________________________________________________________\n",
            "dense_5 (Dense)              (None, 3, 23)             575       \n",
            "=================================================================\n",
            "Total params: 791\n",
            "Trainable params: 791\n",
            "Non-trainable params: 0\n",
            "_________________________________________________________________\n"
          ],
          "name": "stdout"
        }
      ]
    },
    {
      "cell_type": "code",
      "metadata": {
        "colab": {
          "base_uri": "https://localhost:8080/"
        },
        "id": "6vzHqfk7J0Jj",
        "outputId": "aaa02232-b5f7-4289-d5af-b7507bdf048f"
      },
      "source": [
        "autoencoder.compile(loss='mean_squared_error', optimizer='adam', metrics=['accuracy'])\n",
        "\n",
        "# Fit an autoencoder \n",
        "history = autoencoder.fit(x_train, x_train,\n",
        "                epochs=50,\n",
        "                batch_size=512,\n",
        "                shuffle=False,\n",
        "                validation_data=(x_test, x_test))"
      ],
      "execution_count": null,
      "outputs": [
        {
          "output_type": "stream",
          "text": [
            "5420/5420 [==============================] - 18s 3ms/step - loss: 3.3933e-05 - accuracy: 0.9727 - val_loss: 3.6068e-05 - val_accuracy: 0.9781\n",
            "Epoch 20/50\n",
            "5420/5420 [==============================] - 18s 3ms/step - loss: 3.3980e-05 - accuracy: 0.9725 - val_loss: 3.5952e-05 - val_accuracy: 0.9793\n",
            "Epoch 21/50\n",
            "5420/5420 [==============================] - 18s 3ms/step - loss: 3.3844e-05 - accuracy: 0.9729 - val_loss: 3.5981e-05 - val_accuracy: 0.9783\n",
            "Epoch 22/50\n",
            "5420/5420 [==============================] - 18s 3ms/step - loss: 3.4056e-05 - accuracy: 0.9730 - val_loss: 3.6244e-05 - val_accuracy: 0.9756\n",
            "Epoch 23/50\n",
            "5420/5420 [==============================] - 20s 4ms/step - loss: 3.3846e-05 - accuracy: 0.9731 - val_loss: 3.5088e-05 - val_accuracy: 0.9803\n",
            "Epoch 24/50\n",
            "5420/5420 [==============================] - 18s 3ms/step - loss: 3.3746e-05 - accuracy: 0.9728 - val_loss: 3.5384e-05 - val_accuracy: 0.9802\n",
            "Epoch 25/50\n",
            "5420/5420 [==============================] - 18s 3ms/step - loss: 3.3971e-05 - accuracy: 0.9734 - val_loss: 3.4883e-05 - val_accuracy: 0.9812\n",
            "Epoch 26/50\n",
            "5420/5420 [==============================] - 20s 4ms/step - loss: 3.3656e-05 - accuracy: 0.9731 - val_loss: 3.4929e-05 - val_accuracy: 0.9810\n",
            "Epoch 27/50\n",
            "5420/5420 [==============================] - 18s 3ms/step - loss: 3.3865e-05 - accuracy: 0.9723 - val_loss: 3.3920e-05 - val_accuracy: 0.9863\n",
            "Epoch 28/50\n",
            "5420/5420 [==============================] - 18s 3ms/step - loss: 3.3953e-05 - accuracy: 0.9732 - val_loss: 3.5088e-05 - val_accuracy: 0.9799\n",
            "Epoch 29/50\n",
            "5420/5420 [==============================] - 18s 3ms/step - loss: 3.3526e-05 - accuracy: 0.9728 - val_loss: 3.5764e-05 - val_accuracy: 0.9776\n",
            "Epoch 30/50\n",
            "5420/5420 [==============================] - 18s 3ms/step - loss: 3.3617e-05 - accuracy: 0.9723 - val_loss: 3.5620e-05 - val_accuracy: 0.9782\n",
            "Epoch 31/50\n",
            "5420/5420 [==============================] - 20s 4ms/step - loss: 3.3580e-05 - accuracy: 0.9734 - val_loss: 3.5911e-05 - val_accuracy: 0.9793\n",
            "Epoch 32/50\n",
            "5420/5420 [==============================] - 18s 3ms/step - loss: 3.3560e-05 - accuracy: 0.9723 - val_loss: 3.4945e-05 - val_accuracy: 0.9799\n",
            "Epoch 33/50\n",
            "5420/5420 [==============================] - 18s 3ms/step - loss: 3.3651e-05 - accuracy: 0.9725 - val_loss: 3.4918e-05 - val_accuracy: 0.9792\n",
            "Epoch 34/50\n",
            "5420/5420 [==============================] - 18s 3ms/step - loss: 3.3508e-05 - accuracy: 0.9736 - val_loss: 3.4828e-05 - val_accuracy: 0.9804\n",
            "Epoch 35/50\n",
            "5420/5420 [==============================] - 20s 4ms/step - loss: 3.3439e-05 - accuracy: 0.9729 - val_loss: 3.5612e-05 - val_accuracy: 0.9779\n",
            "Epoch 36/50\n",
            "5420/5420 [==============================] - 18s 3ms/step - loss: 3.3362e-05 - accuracy: 0.9734 - val_loss: 3.4922e-05 - val_accuracy: 0.9805\n",
            "Epoch 37/50\n",
            "5420/5420 [==============================] - 18s 3ms/step - loss: 3.3647e-05 - accuracy: 0.9726 - val_loss: 3.5625e-05 - val_accuracy: 0.9769\n",
            "Epoch 38/50\n",
            "5420/5420 [==============================] - 18s 3ms/step - loss: 3.3357e-05 - accuracy: 0.9728 - val_loss: 3.5605e-05 - val_accuracy: 0.9769\n",
            "Epoch 39/50\n",
            "5420/5420 [==============================] - 18s 3ms/step - loss: 3.3225e-05 - accuracy: 0.9736 - val_loss: 3.5027e-05 - val_accuracy: 0.9796\n",
            "Epoch 40/50\n",
            "5420/5420 [==============================] - 20s 4ms/step - loss: 3.3254e-05 - accuracy: 0.9733 - val_loss: 3.4998e-05 - val_accuracy: 0.9793\n",
            "Epoch 41/50\n",
            "5420/5420 [==============================] - 20s 4ms/step - loss: 3.3125e-05 - accuracy: 0.9726 - val_loss: 3.5116e-05 - val_accuracy: 0.9792\n",
            "Epoch 42/50\n",
            "5420/5420 [==============================] - 18s 3ms/step - loss: 3.3131e-05 - accuracy: 0.9725 - val_loss: 3.4669e-05 - val_accuracy: 0.9806\n",
            "Epoch 43/50\n",
            "5420/5420 [==============================] - 18s 3ms/step - loss: 3.3132e-05 - accuracy: 0.9730 - val_loss: 3.5185e-05 - val_accuracy: 0.9795\n",
            "Epoch 44/50\n",
            "5420/5420 [==============================] - 18s 3ms/step - loss: 3.3161e-05 - accuracy: 0.9736 - val_loss: 3.5478e-05 - val_accuracy: 0.9779\n",
            "Epoch 45/50\n",
            "5420/5420 [==============================] - 18s 3ms/step - loss: 3.3231e-05 - accuracy: 0.9734 - val_loss: 3.5095e-05 - val_accuracy: 0.9793\n",
            "Epoch 46/50\n",
            "5420/5420 [==============================] - 21s 4ms/step - loss: 3.3227e-05 - accuracy: 0.9733 - val_loss: 3.5085e-05 - val_accuracy: 0.9781\n",
            "Epoch 47/50\n",
            "5420/5420 [==============================] - 20s 4ms/step - loss: 3.3153e-05 - accuracy: 0.9735 - val_loss: 3.4541e-05 - val_accuracy: 0.9810\n",
            "Epoch 48/50\n",
            "5420/5420 [==============================] - 18s 3ms/step - loss: 3.3076e-05 - accuracy: 0.9738 - val_loss: 3.4950e-05 - val_accuracy: 0.9800\n",
            "Epoch 49/50\n",
            "5420/5420 [==============================] - 18s 3ms/step - loss: 3.2957e-05 - accuracy: 0.9728 - val_loss: 3.3938e-05 - val_accuracy: 0.9830\n",
            "Epoch 50/50\n",
            "5420/5420 [==============================] - 21s 4ms/step - loss: 3.3090e-05 - accuracy: 0.9741 - val_loss: 3.5454e-05 - val_accuracy: 0.9779\n"
          ],
          "name": "stdout"
        }
      ]
    },
    {
      "cell_type": "code",
      "metadata": {
        "id": "6XQVQUW2Hp4S"
      },
      "source": [
        "x_test1 = pd.read_csv('/content/drive/MyDrive/Reescalado/rb.csv').iloc[:,1:]"
      ],
      "execution_count": null,
      "outputs": []
    },
    {
      "cell_type": "code",
      "metadata": {
        "id": "nsFiFHW1HFGY"
      },
      "source": [
        "l_1_ = x_test1.iloc[:,0:3].values.tolist()\n",
        "l_2_ = x_test1.iloc[:,3:6].values.tolist()\n",
        "l_3_ = x_test1.iloc[:,6:9].values.tolist()\n",
        "l_4_ = x_test1.iloc[:,9:12].values.tolist()\n",
        "l_5_ = x_test1.iloc[:,12:15].values.tolist()\n",
        "l_6_ = x_test1.iloc[:,15:18].values.tolist()\n",
        "l_7_ = x_test1.iloc[:,18:21].values.tolist()\n",
        "l_8_ = x_test1.iloc[:,21:].values.tolist()\n",
        "\n",
        "x_test1 = np.array([l_1_,l_2_,l_3_,l_4_,l_5_,l_6_,l_7_,l_8_])"
      ],
      "execution_count": null,
      "outputs": []
    },
    {
      "cell_type": "code",
      "metadata": {
        "colab": {
          "base_uri": "https://localhost:8080/"
        },
        "id": "FAkqWVNIH9iH",
        "outputId": "d990b105-a355-431d-c5cf-74ff5cf974f7"
      },
      "source": [
        "x_test1.shape"
      ],
      "execution_count": null,
      "outputs": [
        {
          "output_type": "execute_result",
          "data": {
            "text/plain": [
              "(8, 9910, 3)"
            ]
          },
          "metadata": {
            "tags": []
          },
          "execution_count": 50
        }
      ]
    },
    {
      "cell_type": "code",
      "metadata": {
        "id": "Sae6rdHdIEls"
      },
      "source": [
        "x_test1 = x_test1.reshape(9910, 3, 8)"
      ],
      "execution_count": null,
      "outputs": []
    },
    {
      "cell_type": "code",
      "metadata": {
        "id": "_MYtr0nEIRJp"
      },
      "source": [
        "x_predict1 = autoencoder.predict(x_test1)"
      ],
      "execution_count": null,
      "outputs": []
    },
    {
      "cell_type": "code",
      "metadata": {
        "id": "FyznrzcUIaup"
      },
      "source": [
        " mse1 = tf.keras.losses.MeanAbsoluteError()"
      ],
      "execution_count": null,
      "outputs": []
    },
    {
      "cell_type": "code",
      "metadata": {
        "colab": {
          "base_uri": "https://localhost:8080/"
        },
        "id": "WZwApRX2IcWJ",
        "outputId": "5fd5a4eb-2f22-4c57-c1df-35736dcf3ae5"
      },
      "source": [
        "mse1(x_test1, x_predict1).numpy()"
      ],
      "execution_count": null,
      "outputs": [
        {
          "output_type": "execute_result",
          "data": {
            "text/plain": [
              "0.0040505347"
            ]
          },
          "metadata": {
            "tags": []
          },
          "execution_count": 26
        }
      ]
    },
    {
      "cell_type": "code",
      "metadata": {
        "colab": {
          "base_uri": "https://localhost:8080/"
        },
        "id": "fFnHV2bGJOyD",
        "outputId": "5d1f5146-a31e-4bbb-998d-7a99c29dcf33"
      },
      "source": [
        " mse12 = tf.keras.losses.MeanAbsoluteError()\n",
        " mse12(x_test1, x_predict1).numpy()"
      ],
      "execution_count": null,
      "outputs": [
        {
          "output_type": "execute_result",
          "data": {
            "text/plain": [
              "0.0050924555"
            ]
          },
          "metadata": {
            "tags": []
          },
          "execution_count": 47
        }
      ]
    },
    {
      "cell_type": "code",
      "metadata": {
        "colab": {
          "base_uri": "https://localhost:8080/"
        },
        "id": "s10BN7dzPc0s",
        "outputId": "bebec796-18e8-4353-bd82-cc63fff9dcec"
      },
      "source": [
        " mse2 = tf.keras.losses.MeanAbsoluteError()\n",
        " mse2(x_test1, x_predict1).numpy()"
      ],
      "execution_count": null,
      "outputs": [
        {
          "output_type": "execute_result",
          "data": {
            "text/plain": [
              "0.0068542003"
            ]
          },
          "metadata": {
            "tags": []
          },
          "execution_count": 41
        }
      ]
    },
    {
      "cell_type": "code",
      "metadata": {
        "colab": {
          "base_uri": "https://localhost:8080/"
        },
        "id": "485FQM8TQS4k",
        "outputId": "2d7cf18d-bd8a-4766-9272-d955a644215f"
      },
      "source": [
        " mse3 = tf.keras.losses.MeanAbsoluteError()\n",
        " mse3(x_test1, x_predict1).numpy()"
      ],
      "execution_count": null,
      "outputs": [
        {
          "output_type": "execute_result",
          "data": {
            "text/plain": [
              "0.004785619"
            ]
          },
          "metadata": {
            "tags": []
          },
          "execution_count": 53
        }
      ]
    }
  ]
}